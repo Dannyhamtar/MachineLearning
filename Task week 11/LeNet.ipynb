{
  "nbformat": 4,
  "nbformat_minor": 0,
  "metadata": {
    "colab": {
      "provenance": [],
      "authorship_tag": "ABX9TyPQ0lwhuX4OXoV7GT8GC6Uz",
      "include_colab_link": true
    },
    "kernelspec": {
      "name": "python3",
      "display_name": "Python 3"
    },
    "language_info": {
      "name": "python"
    }
  },
  "cells": [
    {
      "cell_type": "markdown",
      "metadata": {
        "id": "view-in-github",
        "colab_type": "text"
      },
      "source": [
        "<a href=\"https://colab.research.google.com/github/Dannyhamtar/MachineLearning/blob/main/Task%20week%2011/LeNet.ipynb\" target=\"_parent\"><img src=\"https://colab.research.google.com/assets/colab-badge.svg\" alt=\"Open In Colab\"/></a>"
      ]
    },
    {
      "cell_type": "markdown",
      "source": [
        "Nama: Danny Hamtar Pangestu\n",
        "\n",
        "NIM: 1103210037\n",
        "\n",
        "Lecture : 11\n",
        "\n",
        "Model: LeNet\n",
        "\n",
        "Dokumentasi GPT : [link](https://chatgpt.com/share/273896aa-a78d-404d-8f81-128d346443ee)"
      ],
      "metadata": {
        "id": "oAXQUR4EWFNx"
      }
    },
    {
      "cell_type": "markdown",
      "source": [
        "**LeNet-5 adalah jaringan saraf convolutional yang sangat efisien untuk pengenalan karakter tulisan tangan.\n",
        "Jaringan syaraf tiruan convolutional dapat memanfaatkan informasi struktural gambar dengan baik.\n",
        "Lapisan konvolusional memiliki lebih sedikit parameter, yang juga ditentukan oleh karakteristik utama lapisan konvolusional, yaitu koneksi lokal dan bobot bersama.**"
      ],
      "metadata": {
        "id": "9AFOiArXehO9"
      }
    },
    {
      "cell_type": "markdown",
      "source": [
        "### Code Implementation"
      ],
      "metadata": {
        "id": "tfu_U5LqaWa3"
      }
    },
    {
      "cell_type": "code",
      "execution_count": 2,
      "metadata": {
        "id": "uZR9z0cyV_Hl"
      },
      "outputs": [],
      "source": [
        "import keras\n",
        "from keras.datasets import mnist\n",
        "from keras.layers import Conv2D, MaxPooling2D\n",
        "from keras.layers import Dense, Flatten\n",
        "from keras.models import Sequential\n",
        "import matplotlib.pyplot as plt\n",
        "import numpy as np"
      ]
    },
    {
      "cell_type": "markdown",
      "source": [
        "### Loading Dataset"
      ],
      "metadata": {
        "id": "VmyRSL_Jaa-u"
      }
    },
    {
      "cell_type": "code",
      "source": [
        "(x_train, y_train), (x_test, y_test) = mnist.load_data()"
      ],
      "metadata": {
        "id": "asK2eWYWaQ54"
      },
      "execution_count": 3,
      "outputs": []
    },
    {
      "cell_type": "markdown",
      "source": [
        "### Image Data Preprocessing"
      ],
      "metadata": {
        "id": "2qUOQeOfabxg"
      }
    },
    {
      "cell_type": "code",
      "source": [
        "# Menjalankan Operasi Reshape\n",
        "x_train = x_train.reshape(x_train.shape[0], 28, 28, 1)\n",
        "x_test = x_test.reshape(x_test.shape[0], 28, 28, 1)\n",
        "\n",
        "# Normalisasi\n",
        "x_train = x_train / 255\n",
        "x_test = x_test / 255\n",
        "\n",
        "# One Hot Encoding\n",
        "y_train = keras.utils.to_categorical(y_train, 10)\n",
        "y_test = keras.utils.to_categorical(y_test, 10)"
      ],
      "metadata": {
        "id": "khHza7kRaTBa"
      },
      "execution_count": 4,
      "outputs": []
    },
    {
      "cell_type": "markdown",
      "source": [
        "### LeNet Model Architecture"
      ],
      "metadata": {
        "id": "DWTNapZBawVK"
      }
    },
    {
      "cell_type": "code",
      "source": [
        "# Membangun Arsitektur Model\n",
        "model = Sequential()\n",
        "\n",
        "# Menambahkan layer konvolusi pertama\n",
        "# Pilih 6 kernel konvolusi dengan ukuran 5 * 5 (tanpa pergeseran), dan dapatkan 6 peta fitur.\n",
        "# Ukuran setiap peta fitur adalah 32−5 + 1 = 28.\n",
        "# Artinya, jumlah neuron telah dikurangi dari 1024 menjadi 28 * 28 = 784.\n",
        "# Parameter antara layer input dan layer C1: 6 * (5 * 5 + 1)\n",
        "model.add(Conv2D(6, kernel_size=(5, 5), activation='relu', input_shape=(28, 28, 1)))\n",
        "\n",
        "# Input dari layer ini adalah output dari layer pertama, yang merupakan matriks node 28 * 28 * 6.\n",
        "# Ukuran filter yang digunakan dalam layer ini adalah 2 * 2, dan panjang langkah dan lebar keduanya adalah 2, sehingga ukuran matriks output dari layer ini adalah 14 * 14 * 6.\n",
        "model.add(MaxPooling2D(pool_size=(2, 2)))\n",
        "\n",
        "# Ukuran matriks input dari layer ini adalah 14 * 14 * 6, ukuran filter yang digunakan adalah 5 * 5, dan kedalaman adalah 16.\n",
        "# Layer ini tidak menggunakan padding 0 penuh, dan langkahnya adalah 1.\n",
        "# Ukuran matriks output dari layer ini adalah 10 * 10 * 16.\n",
        "# Layer ini memiliki 5 * 5 * 6 * 16 + 16 = 2416 parameter.\n",
        "model.add(Conv2D(16, kernel_size=(5, 5), activation='relu'))\n",
        "\n",
        "# Ukuran matriks input dari layer ini adalah 10 * 10 * 16. Ukuran filter yang digunakan dalam layer ini adalah 2 * 2, dan langkah panjang dan lebarnya keduanya adalah 2,\n",
        "# sehingga ukuran matriks output dari layer ini adalah 5 * 5 * 16.\n",
        "model.add(MaxPooling2D(pool_size=(2, 2)))\n",
        "\n",
        "# Ukuran matriks input dari layer ini adalah 5 * 5 * 16. Layer ini disebut layer konvolusi dalam makalah LeNet-5, tetapi karena ukuran filternya adalah 5 * 5,\n",
        "# sehingga tidak berbeda dengan layer yang sepenuhnya terhubung.\n",
        "# Jika node-node dalam matriks 5 * 5 * 16 ditarik menjadi vektor, maka layer ini sama dengan layer yang sepenuhnya terhubung.\n",
        "# Jumlah node output dalam layer ini adalah 120, dengan total parameter 5 * 5 * 16 * 120 + 120 = 48120.\n",
        "model.add(Flatten())\n",
        "model.add(Dense(120, activation='relu'))\n",
        "\n",
        "# Jumlah node input dalam layer ini adalah 120 dan jumlah node outputnya adalah 84. Total parameter adalah 120 * 84 + 84 = 10164 (w + b).\n",
        "model.add(Dense(84, activation='relu'))\n",
        "\n",
        "# Jumlah node input dalam layer ini adalah 84 dan jumlah node outputnya adalah 10. Total parameter adalah 84 * 10 + 10 = 850.\n",
        "model.add(Dense(10, activation='softmax'))"
      ],
      "metadata": {
        "id": "zbhrr0shawsF"
      },
      "execution_count": 5,
      "outputs": []
    },
    {
      "cell_type": "code",
      "source": [
        "model.compile(optimizer='adam', loss='categorical_crossentropy', metrics=['accuracy'])\n"
      ],
      "metadata": {
        "id": "cZpaOQHia49n"
      },
      "execution_count": 14,
      "outputs": []
    },
    {
      "cell_type": "code",
      "source": [
        "history = model.fit(x_train, y_train, batch_size=360, epochs=20, verbose=1, validation_data=(x_test, y_test))\n",
        "\n"
      ],
      "metadata": {
        "colab": {
          "base_uri": "https://localhost:8080/"
        },
        "id": "-ok7UOZ0bL3U",
        "outputId": "37ff210a-fe1c-4c88-c46e-bccec3ccb0bb"
      },
      "execution_count": 15,
      "outputs": [
        {
          "output_type": "stream",
          "name": "stdout",
          "text": [
            "Epoch 1/20\n",
            "167/167 [==============================] - 20s 113ms/step - loss: 0.5386 - accuracy: 0.8477 - val_loss: 0.1711 - val_accuracy: 0.9487\n",
            "Epoch 2/20\n",
            "167/167 [==============================] - 20s 117ms/step - loss: 0.1497 - accuracy: 0.9546 - val_loss: 0.0984 - val_accuracy: 0.9706\n",
            "Epoch 3/20\n",
            "167/167 [==============================] - 18s 111ms/step - loss: 0.0968 - accuracy: 0.9697 - val_loss: 0.0721 - val_accuracy: 0.9777\n",
            "Epoch 4/20\n",
            "167/167 [==============================] - 20s 122ms/step - loss: 0.0772 - accuracy: 0.9761 - val_loss: 0.0613 - val_accuracy: 0.9797\n",
            "Epoch 5/20\n",
            "167/167 [==============================] - 21s 125ms/step - loss: 0.0627 - accuracy: 0.9807 - val_loss: 0.0562 - val_accuracy: 0.9832\n",
            "Epoch 6/20\n",
            "167/167 [==============================] - 25s 150ms/step - loss: 0.0540 - accuracy: 0.9833 - val_loss: 0.0532 - val_accuracy: 0.9822\n",
            "Epoch 7/20\n",
            "167/167 [==============================] - 19s 111ms/step - loss: 0.0488 - accuracy: 0.9847 - val_loss: 0.0439 - val_accuracy: 0.9856\n",
            "Epoch 8/20\n",
            "167/167 [==============================] - 24s 142ms/step - loss: 0.0427 - accuracy: 0.9869 - val_loss: 0.0422 - val_accuracy: 0.9865\n",
            "Epoch 9/20\n",
            "167/167 [==============================] - 19s 115ms/step - loss: 0.0377 - accuracy: 0.9882 - val_loss: 0.0381 - val_accuracy: 0.9876\n",
            "Epoch 10/20\n",
            "167/167 [==============================] - 22s 129ms/step - loss: 0.0340 - accuracy: 0.9891 - val_loss: 0.0405 - val_accuracy: 0.9878\n",
            "Epoch 11/20\n",
            "167/167 [==============================] - 22s 134ms/step - loss: 0.0317 - accuracy: 0.9900 - val_loss: 0.0400 - val_accuracy: 0.9876\n",
            "Epoch 12/20\n",
            "167/167 [==============================] - 20s 117ms/step - loss: 0.0285 - accuracy: 0.9910 - val_loss: 0.0417 - val_accuracy: 0.9861\n",
            "Epoch 13/20\n",
            "167/167 [==============================] - 19s 111ms/step - loss: 0.0262 - accuracy: 0.9913 - val_loss: 0.0393 - val_accuracy: 0.9865\n",
            "Epoch 14/20\n",
            "167/167 [==============================] - 19s 116ms/step - loss: 0.0230 - accuracy: 0.9924 - val_loss: 0.0355 - val_accuracy: 0.9891\n",
            "Epoch 15/20\n",
            "167/167 [==============================] - 19s 111ms/step - loss: 0.0210 - accuracy: 0.9933 - val_loss: 0.0382 - val_accuracy: 0.9887\n",
            "Epoch 16/20\n",
            "167/167 [==============================] - 20s 122ms/step - loss: 0.0205 - accuracy: 0.9933 - val_loss: 0.0359 - val_accuracy: 0.9895\n",
            "Epoch 17/20\n",
            "167/167 [==============================] - 18s 111ms/step - loss: 0.0171 - accuracy: 0.9944 - val_loss: 0.0372 - val_accuracy: 0.9883\n",
            "Epoch 18/20\n",
            "167/167 [==============================] - 21s 125ms/step - loss: 0.0174 - accuracy: 0.9941 - val_loss: 0.0363 - val_accuracy: 0.9879\n",
            "Epoch 19/20\n",
            "167/167 [==============================] - 19s 116ms/step - loss: 0.0140 - accuracy: 0.9955 - val_loss: 0.0392 - val_accuracy: 0.9885\n",
            "Epoch 20/20\n",
            "167/167 [==============================] - 19s 115ms/step - loss: 0.0125 - accuracy: 0.9959 - val_loss: 0.0418 - val_accuracy: 0.9882\n"
          ]
        }
      ]
    },
    {
      "cell_type": "markdown",
      "source": [
        "#Evaluasi Model\n"
      ],
      "metadata": {
        "id": "oP75J8CsbcaA"
      }
    },
    {
      "cell_type": "code",
      "source": [
        "score = model.evaluate(x_test, y_test)\n",
        "print('Test Loss:', score[0])\n",
        "print('Test accuracy:', score[1])"
      ],
      "metadata": {
        "colab": {
          "base_uri": "https://localhost:8080/"
        },
        "id": "WJIlpIgJbdDc",
        "outputId": "c5f8ce3a-8714-49c1-f19c-0e1e72229c54"
      },
      "execution_count": 16,
      "outputs": [
        {
          "output_type": "stream",
          "name": "stdout",
          "text": [
            "313/313 [==============================] - 2s 5ms/step - loss: 0.0418 - accuracy: 0.9882\n",
            "Test Loss: 0.041755933314561844\n",
            "Test accuracy: 0.9882000088691711\n"
          ]
        }
      ]
    },
    {
      "cell_type": "code",
      "source": [
        "# Total data training\n",
        "total_train_data = len(x_train)\n",
        "# Total data testing\n",
        "total_test_data = len(x_test)\n",
        "\n",
        "print(\"Total data in training set:\", total_train_data)\n",
        "print(\"Total data in testing set:\", total_test_data)"
      ],
      "metadata": {
        "colab": {
          "base_uri": "https://localhost:8080/"
        },
        "id": "-R9PXcMbc4Sn",
        "outputId": "f03006de-a206-468c-8807-f95898eba45e"
      },
      "execution_count": 17,
      "outputs": [
        {
          "output_type": "stream",
          "name": "stdout",
          "text": [
            "Total data in training set: 60000\n",
            "Total data in testing set: 10000\n"
          ]
        }
      ]
    },
    {
      "cell_type": "code",
      "source": [
        "# Predictions on training data\n",
        "train_predictions = model.predict(x_train)\n",
        "train_correct = sum([1 for i in range(len(train_predictions)) if np.argmax(train_predictions[i]) == np.argmax(y_train[i])])\n",
        "\n",
        "# Predictions on testing data\n",
        "test_predictions = model.predict(x_test)\n",
        "test_correct = sum([1 for i in range(len(test_predictions)) if np.argmax(test_predictions[i]) == np.argmax(y_test[i])])\n",
        "\n",
        "print(\"Total correct predictions on training data:\", train_correct)\n",
        "print(\"Total correct predictions on testing data:\", test_correct)"
      ],
      "metadata": {
        "colab": {
          "base_uri": "https://localhost:8080/"
        },
        "id": "wdJYdo2hdBx-",
        "outputId": "3d3adce9-ea70-481b-f776-8aafa7480a33"
      },
      "execution_count": 18,
      "outputs": [
        {
          "output_type": "stream",
          "name": "stdout",
          "text": [
            "1875/1875 [==============================] - 9s 5ms/step\n",
            "313/313 [==============================] - 2s 6ms/step\n",
            "Total correct predictions on training data: 59834\n",
            "Total correct predictions on testing data: 9882\n"
          ]
        }
      ]
    },
    {
      "cell_type": "markdown",
      "source": [
        "#Visualisasi Model"
      ],
      "metadata": {
        "id": "iF2yI1gwdDpn"
      }
    },
    {
      "cell_type": "code",
      "source": [
        "# Plotting model accuracy\n",
        "plt.plot(history.history['accuracy'])\n",
        "plt.plot(history.history['val_accuracy'])\n",
        "plt.title('Model Accuracy')\n",
        "plt.ylabel('Accuracy')\n",
        "plt.xlabel('Epoch')\n",
        "plt.legend(['Train', 'Test'], loc='upper left')\n",
        "plt.show()"
      ],
      "metadata": {
        "colab": {
          "base_uri": "https://localhost:8080/",
          "height": 472
        },
        "id": "Uzw_Au2mdEXC",
        "outputId": "ef4687dd-bc3f-4fdf-9b71-5ed38ea82e70"
      },
      "execution_count": 20,
      "outputs": [
        {
          "output_type": "display_data",
          "data": {
            "text/plain": [
              "<Figure size 640x480 with 1 Axes>"
            ],
            "image/png": "[encoded data removed]"
          },
          "metadata": {}
        }
      ]
    },
    {
      "cell_type": "code",
      "source": [
        "# Plotting model loss\n",
        "plt.plot(history.history['loss'])\n",
        "plt.plot(history.history['val_loss'])\n",
        "plt.title('Model Loss')\n",
        "plt.ylabel('Loss')\n",
        "plt.xlabel('Epoch')\n",
        "plt.legend(['Train', 'Test'], loc='upper right')\n",
        "plt.show()"
      ],
      "metadata": {
        "colab": {
          "base_uri": "https://localhost:8080/",
          "height": 472
        },
        "id": "y-4OnvW5dF-U",
        "outputId": "c6e24d99-eab5-4ee6-fb63-2fc8d7e6b5b2"
      },
      "execution_count": 22,
      "outputs": [
        {
          "output_type": "display_data",
          "data": {
            "text/plain": [
              "<Figure size 640x480 with 1 Axes>"
            ],
            "image/png": "[encoded data removed]"
          },
          "metadata": {}
        }
      ]
    }
  ]
}